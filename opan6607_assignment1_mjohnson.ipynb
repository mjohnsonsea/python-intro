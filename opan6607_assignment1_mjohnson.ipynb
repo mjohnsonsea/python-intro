{
 "cells": [
  {
   "cell_type": "markdown",
   "id": "c7ec6e69-5007-4ad9-9bbc-de592c3992ef",
   "metadata": {},
   "source": [
    "# Assignment 1\n",
    "## Mike Johnson\n",
    "### November 12, 2024 "
   ]
  },
  {
   "cell_type": "markdown",
   "id": "8de95900-4baf-41ca-8dd1-50e40208a422",
   "metadata": {},
   "source": [
    "***"
   ]
  },
  {
   "cell_type": "markdown",
   "id": "6093f69c-feab-493f-b85c-eb37f51f9862",
   "metadata": {},
   "source": [
    "#### Q1 "
   ]
  },
  {
   "cell_type": "markdown",
   "id": "d405b004-7128-4d49-afb4-801aab4a41bd",
   "metadata": {},
   "source": [
    "* Case sensitive\n",
    "* No spaces\n",
    "* Use lowercase\n",
    "* For multi-word variables, use underscores also referred to as \"snake_case\""
   ]
  },
  {
   "cell_type": "markdown",
   "id": "a40519f6-1b69-4092-8c49-711f1d997b7a",
   "metadata": {},
   "source": [
    "***"
   ]
  },
  {
   "cell_type": "markdown",
   "id": "31df9f5c-7a98-4d53-a47a-553e9a313e4a",
   "metadata": {},
   "source": [
    "#### Q2"
   ]
  },
  {
   "cell_type": "markdown",
   "id": "e9989847-b9aa-4053-9b0e-53ed9b6b55be",
   "metadata": {},
   "source": [
    "1. **int** - Represents integers (i.e., whole numbers)\n",
    "2. **float** - Represents floating point numbers (i.e., numbers with a decimal point)"
   ]
  },
  {
   "cell_type": "code",
   "execution_count": 1,
   "id": "c17ac12b-62f0-4128-ba91-8f5337916076",
   "metadata": {},
   "outputs": [],
   "source": [
    "# Examples of integers\n",
    "\n",
    "ex_1 = 5\n",
    "ex_2 = -10\n",
    "\n",
    "# Examples of floats\n",
    "\n",
    "ex_3 = 2.53\n",
    "ex_4 = 0.02"
   ]
  },
  {
   "cell_type": "markdown",
   "id": "cb9e840c-a133-4403-9fcc-bcbb36545ea8",
   "metadata": {},
   "source": [
    "***"
   ]
  },
  {
   "cell_type": "markdown",
   "id": "3d445f77-161e-4671-83ea-9effab642c30",
   "metadata": {},
   "source": [
    "#### Q3"
   ]
  },
  {
   "cell_type": "markdown",
   "id": "c8c32ea4-bb0e-4898-9f43-f34b013656c3",
   "metadata": {},
   "source": [
    "Data types are important in Python because they affect the way Python interacts with variables and information such as which operations can be used."
   ]
  },
  {
   "cell_type": "markdown",
   "id": "e7e4a166-9bd9-48db-9643-48f5ceea8c34",
   "metadata": {},
   "source": [
    "***"
   ]
  },
  {
   "cell_type": "markdown",
   "id": "e08491ef-d448-41d1-9eb6-a9a8c5334090",
   "metadata": {},
   "source": [
    "#### Q4"
   ]
  },
  {
   "cell_type": "markdown",
   "id": "f078cadd-7037-412b-8811-163e9f6c6d32",
   "metadata": {},
   "source": [
    "An object's data type can be checked using the `type()` function."
   ]
  },
  {
   "cell_type": "code",
   "execution_count": 2,
   "id": "391b20f3-30a2-4480-8e38-ac72d320bebf",
   "metadata": {},
   "outputs": [
    {
     "data": {
      "text/plain": [
       "int"
      ]
     },
     "execution_count": 2,
     "metadata": {},
     "output_type": "execute_result"
    }
   ],
   "source": [
    "# Checking the data type for ex_1 in Q2\n",
    "\n",
    "type(ex_1)"
   ]
  },
  {
   "cell_type": "markdown",
   "id": "958b19f0-7f5e-415c-a9e5-9616ae6ac496",
   "metadata": {},
   "source": [
    "***"
   ]
  },
  {
   "cell_type": "markdown",
   "id": "2b7debb2-fe8d-4776-97be-82724a81282e",
   "metadata": {},
   "source": [
    "#### Q5"
   ]
  },
  {
   "cell_type": "code",
   "execution_count": 3,
   "id": "1784d055-1dff-4e79-b0ce-1d5784c96e98",
   "metadata": {},
   "outputs": [],
   "source": [
    "# Create a variable\n",
    "washington_dc = \"Washington D.C.\""
   ]
  },
  {
   "cell_type": "markdown",
   "id": "3958ce8e-6f76-4c31-898a-96ecbffec3f5",
   "metadata": {},
   "source": [
    "***"
   ]
  },
  {
   "cell_type": "markdown",
   "id": "187b293f-efb3-46bd-bfa4-8109c8ebfc59",
   "metadata": {},
   "source": [
    "#### Q6"
   ]
  },
  {
   "cell_type": "markdown",
   "id": "c7a2ea80-24d3-4e1f-95bf-d9b90e58110a",
   "metadata": {},
   "source": [
    "The periods can be removed using the `replace()` method."
   ]
  },
  {
   "cell_type": "code",
   "execution_count": 4,
   "id": "fca89eaf-baac-4423-9c73-611fc24e308b",
   "metadata": {},
   "outputs": [
    {
     "data": {
      "text/plain": [
       "'Washington DC'"
      ]
     },
     "execution_count": 4,
     "metadata": {},
     "output_type": "execute_result"
    }
   ],
   "source": [
    "# Remove periods from string\n",
    "\n",
    "washington_dc.replace(\".\", \"\")"
   ]
  },
  {
   "cell_type": "markdown",
   "id": "35af6a55-da98-4500-97ec-c8a33ca6ec8c",
   "metadata": {},
   "source": [
    "***"
   ]
  },
  {
   "cell_type": "markdown",
   "id": "854bb389-262d-4786-9cdc-40566afc9b08",
   "metadata": {},
   "source": [
    "#### Q7"
   ]
  },
  {
   "cell_type": "code",
   "execution_count": 5,
   "id": "6276fd68-8cb5-4b0d-ab44-fcdc502dfe4d",
   "metadata": {},
   "outputs": [
    {
     "data": {
      "text/plain": [
       "'W'"
      ]
     },
     "execution_count": 5,
     "metadata": {},
     "output_type": "execute_result"
    }
   ],
   "source": [
    "# Method 1\n",
    "\n",
    "washington_dc[0]"
   ]
  },
  {
   "cell_type": "code",
   "execution_count": 6,
   "id": "f1704afc-7e2d-4208-9e61-18d8b8fc1400",
   "metadata": {},
   "outputs": [
    {
     "data": {
      "text/plain": [
       "'W'"
      ]
     },
     "execution_count": 6,
     "metadata": {},
     "output_type": "execute_result"
    }
   ],
   "source": [
    "# Method 2\n",
    "\n",
    "washington_dc[-len(washington_dc)]"
   ]
  },
  {
   "cell_type": "markdown",
   "id": "d495b3c5-4381-416b-b3cb-604a2dfa6379",
   "metadata": {},
   "source": [
    "***"
   ]
  },
  {
   "cell_type": "markdown",
   "id": "83105768-b5b6-46bf-9f7c-019c80fd4025",
   "metadata": {},
   "source": [
    "#### Q8"
   ]
  },
  {
   "cell_type": "code",
   "execution_count": 7,
   "id": "ccec6fc3-bd19-48a2-b9d1-f4e1cde3b6cd",
   "metadata": {},
   "outputs": [
    {
     "data": {
      "text/plain": [
       "[100, 101, 102, 103, 104, 105, 106, 107, 108, 109, 110]"
      ]
     },
     "execution_count": 7,
     "metadata": {},
     "output_type": "execute_result"
    }
   ],
   "source": [
    "# Create a list of employee IDs from 100 to 110 incremented by 1.\n",
    "\n",
    "employee_ids = []\n",
    "current_id = 100\n",
    "\n",
    "while current_id <= 110:\n",
    "    employee_ids.append(current_id)\n",
    "    current_id = current_id + 1\n",
    "\n",
    "employee_ids"
   ]
  },
  {
   "cell_type": "markdown",
   "id": "9f03698a-9d44-4be7-a7da-03668e61b7b2",
   "metadata": {},
   "source": [
    "***"
   ]
  },
  {
   "cell_type": "markdown",
   "id": "6d3a1ab4-ad82-458c-9319-8e0541c96a79",
   "metadata": {},
   "source": [
    "#### Q9"
   ]
  },
  {
   "cell_type": "code",
   "execution_count": 8,
   "id": "b67c2680-646a-43d2-bf9b-4aa0f1ee2ff9",
   "metadata": {},
   "outputs": [
    {
     "name": "stdout",
     "output_type": "stream",
     "text": [
      "Sales\n",
      "Sales\n",
      "Sales\n",
      "Sales\n",
      "Sales\n",
      "Finance\n",
      "Finance\n",
      "Finance\n",
      "Finance\n",
      "Finance\n",
      "Finance\n"
     ]
    }
   ],
   "source": [
    "# Loop through list of employee IDs and print \"Sales\" if the employee is less than 105 and print \"Finance\" otherwise\n",
    "\n",
    "for i in employee_ids:\n",
    "    if i < 105:\n",
    "        print(\"Sales\")\n",
    "    else:\n",
    "        print(\"Finance\")"
   ]
  },
  {
   "cell_type": "markdown",
   "id": "a253fedb-3de6-4bf8-a985-0dd67baed4a9",
   "metadata": {},
   "source": [
    "****"
   ]
  },
  {
   "cell_type": "markdown",
   "id": "102ad848-4426-4466-990d-7ee064b8fd38",
   "metadata": {},
   "source": [
    "#### Q10"
   ]
  },
  {
   "cell_type": "code",
   "execution_count": 9,
   "id": "ab302b4c-0e3d-40d3-8d18-101836996064",
   "metadata": {},
   "outputs": [
    {
     "name": "stdout",
     "output_type": "stream",
     "text": [
      "Thank you for your purchase!\n"
     ]
    }
   ],
   "source": [
    "# If a user clicks “buy” print “Thank you for your purchase!”\n",
    "\n",
    "user_clicks_buy = True # Boolean to see if user clicked buy\n",
    "\n",
    "# Conditional statement if the user clicks buy\n",
    "if user_clicks_buy:\n",
    "    print(\"Thank you for your purchase!\")"
   ]
  },
  {
   "cell_type": "markdown",
   "id": "168d91a7-e6c3-41f1-856e-dcdc84ba89f4",
   "metadata": {},
   "source": [
    "****"
   ]
  },
  {
   "cell_type": "markdown",
   "id": "2d608601-bcf2-4506-aa5d-d39a3d11a64d",
   "metadata": {},
   "source": [
    "#### Q11"
   ]
  },
  {
   "cell_type": "code",
   "execution_count": 10,
   "id": "d468aec3-443d-40a7-b195-a0686bdef80e",
   "metadata": {},
   "outputs": [
    {
     "name": "stdout",
     "output_type": "stream",
     "text": [
      "Thank you for your purchase!\n"
     ]
    }
   ],
   "source": [
    "# Add to the above conditional statement by printing \"Need more time?\"\n",
    "\n",
    "if user_clicks_buy:\n",
    "    print(\"Thank you for your purchase!\")\n",
    "else:\n",
    "    print(\"Need more time?\")"
   ]
  },
  {
   "cell_type": "markdown",
   "id": "e2cc693f-6874-4b6d-b216-9d6687218444",
   "metadata": {},
   "source": [
    "****"
   ]
  },
  {
   "cell_type": "markdown",
   "id": "33a253e7-faf2-4ae9-aee7-1a0d656e47ab",
   "metadata": {},
   "source": [
    "#### Q12"
   ]
  },
  {
   "cell_type": "code",
   "execution_count": 11,
   "id": "66578276-b599-4d96-bce4-37744a3d9412",
   "metadata": {},
   "outputs": [
    {
     "name": "stdout",
     "output_type": "stream",
     "text": [
      "Low\n",
      "Low\n",
      "Low\n",
      "Low\n",
      "Mid\n",
      "Mid\n",
      "Mid\n",
      "Mid\n",
      "High\n",
      "High\n"
     ]
    }
   ],
   "source": [
    "# Create a list of 10 stock prices.\n",
    "\n",
    "stock_prices = [10, 12, 50, 100, 120, 150, 175, 199, 300, 1000]\n",
    "\n",
    "# Loop that checks the stock price and categorizes them into \"High\", \"Mid\", \"Low\"\n",
    "\n",
    "for i in stock_prices:\n",
    "    if i > 200:\n",
    "        print(\"High\")\n",
    "    elif i > 100:\n",
    "        print(\"Mid\")\n",
    "    else:\n",
    "        print(\"Low\")"
   ]
  },
  {
   "cell_type": "markdown",
   "id": "97f68fe6-8525-46be-b5ea-0f027cfa6b1e",
   "metadata": {},
   "source": [
    "****"
   ]
  },
  {
   "cell_type": "markdown",
   "id": "1e7eca4e-d6ac-4ba5-b672-649bead4e27e",
   "metadata": {},
   "source": [
    "#### Q13"
   ]
  },
  {
   "cell_type": "code",
   "execution_count": 12,
   "id": "d397f081-9a59-4605-8dc6-2e3475940f8d",
   "metadata": {},
   "outputs": [
    {
     "data": {
      "text/plain": [
       "[10, 1000]"
      ]
     },
     "execution_count": 12,
     "metadata": {},
     "output_type": "execute_result"
    }
   ],
   "source": [
    "# Function that takes a list as an input and returns a new list that contains the first and last element of the input list.\n",
    "\n",
    "def first_and_last_element(input_list):\n",
    "    return [input_list[0], input_list[-1]]\n",
    "\n",
    "# Test the function usting stock_prices from Q12.\n",
    "\n",
    "result = first_and_last_element(stock_prices)\n",
    "result"
   ]
  },
  {
   "cell_type": "markdown",
   "id": "2d689594-d261-4028-a2ca-2b3b9ac187df",
   "metadata": {},
   "source": [
    "****"
   ]
  },
  {
   "cell_type": "markdown",
   "id": "248f4e4c-28ad-4e29-8e6f-a62981e2a6b2",
   "metadata": {},
   "source": [
    "#### Q14"
   ]
  },
  {
   "cell_type": "code",
   "execution_count": 13,
   "id": "2a045363-2042-4f59-8958-9718c774a114",
   "metadata": {},
   "outputs": [
    {
     "data": {
      "text/plain": [
       "2.0"
      ]
     },
     "execution_count": 13,
     "metadata": {},
     "output_type": "execute_result"
    }
   ],
   "source": [
    "#  Function that calculates a business’ debt-to-equity (D/E) ratio given its total liabilities and total equity\n",
    "\n",
    "def debt_to_equity(debt, equity):\n",
    "    return debt / equity\n",
    "\n",
    "# Test the function\n",
    "\n",
    "debt_to_equity(100, 50)"
   ]
  },
  {
   "cell_type": "markdown",
   "id": "b988fe00-3344-4f7b-8403-9cb11006b125",
   "metadata": {},
   "source": [
    "****"
   ]
  },
  {
   "cell_type": "markdown",
   "id": "80d08256-0e6d-446c-97c9-b22eacc99798",
   "metadata": {},
   "source": [
    "#### Q15"
   ]
  },
  {
   "cell_type": "code",
   "execution_count": 14,
   "id": "f5f74051-cc61-4fb7-b72d-eb7ae17ff91a",
   "metadata": {},
   "outputs": [
    {
     "name": "stdout",
     "output_type": "stream",
     "text": [
      "Test Warning Condition: Warning\n",
      "Test OK Condition: Ok\n"
     ]
    }
   ],
   "source": [
    "# Adjust the function you defined in #14 to return “Warning” if the result is greater than 2 and “OK” otherwise.\n",
    "\n",
    "def debt_to_equity(debt, equity):\n",
    "    \n",
    "    calc = debt / equity # Calculation of D/E ratio\n",
    "\n",
    "    # Check the if ratio is greater than 2\n",
    "    if calc > 2:\n",
    "        return \"Warning\"\n",
    "    else:\n",
    "        return \"Ok\"\n",
    "\n",
    "# Test the function\n",
    "\n",
    "test_warning = debt_to_equity(300, 100)\n",
    "test_ok = debt_to_equity(50, 100)\n",
    "\n",
    "print(f\"Test Warning Condition: {test_warning}\") # Output should be \"Warning\"\n",
    "print(f\"Test OK Condition: {test_ok}\") # Output should be \"Ok\""
   ]
  },
  {
   "cell_type": "markdown",
   "id": "cad60028-b19c-4f9a-a1ab-dfe6b0482f49",
   "metadata": {},
   "source": [
    "****"
   ]
  },
  {
   "cell_type": "markdown",
   "id": "9be2263f-ae46-4e39-a410-c8625458f3ed",
   "metadata": {},
   "source": [
    "#### Q16"
   ]
  },
  {
   "cell_type": "markdown",
   "id": "9f5f27d7-e136-43fe-8b44-d552ce7cd1af",
   "metadata": {},
   "source": [
    "In Python, scope means that a variable is only available in the region it is created. Types of scope indlude:\n",
    "\n",
    "- **Local Scope**: Variables created inside a function can only be accessed inside that function\n",
    "- **Global Scope**: Variables created in the main body of code. These variables can be accessed in both global and local scopes.\n",
    "\n",
    "Scopes are important because the help avoid naming conflicts, control variable lifetimes, and improve readability and maintenance of the code."
   ]
  },
  {
   "cell_type": "markdown",
   "id": "61b9ca6c-17b0-45b8-94b4-256becd9d6cd",
   "metadata": {},
   "source": [
    "****"
   ]
  },
  {
   "cell_type": "markdown",
   "id": "ff992ece-d42f-4f28-9af2-77718a5efe83",
   "metadata": {},
   "source": [
    "#### Q17"
   ]
  },
  {
   "cell_type": "code",
   "execution_count": 15,
   "id": "0b9a227c-d9f6-4ed4-ac87-c0779486b8a5",
   "metadata": {},
   "outputs": [
    {
     "data": {
      "text/plain": [
       "3250"
      ]
     },
     "execution_count": 15,
     "metadata": {},
     "output_type": "execute_result"
    }
   ],
   "source": [
    "# Define a function with a local variable called “base_amount” that takes the value of 50 and takes two inputs, computes the sum of base amount and the two inputs, and then multiples that sum by “base_amount.”\n",
    "\n",
    "def base_calc(input1, input2):\n",
    "    base_amount = 50\n",
    "    result = (base_amount + input1 + input2) * base_amount\n",
    "    return result\n",
    "\n",
    "# Test the function\n",
    "\n",
    "base_calc(5, 10)"
   ]
  },
  {
   "cell_type": "markdown",
   "id": "4c1ab081-6e9e-490a-9ace-cf2a2ce21838",
   "metadata": {},
   "source": [
    "****"
   ]
  },
  {
   "cell_type": "markdown",
   "id": "380cdf8d-4d8f-4546-b3d5-1ed8ce9575ba",
   "metadata": {},
   "source": [
    "#### Q18"
   ]
  },
  {
   "cell_type": "markdown",
   "id": "2cdd2301-ad7e-44a2-91bc-fee980d1c0cd",
   "metadata": {},
   "source": [
    "Attempting to print `base_amount` in the global environment will result in a `NameError` as demonstrated below. This is because `base_amount` is in the local scope of the function in Q17 and not accessible outside of it."
   ]
  },
  {
   "cell_type": "code",
   "execution_count": 16,
   "id": "a5ea47d7-dbe3-4398-8164-fe1babb55505",
   "metadata": {},
   "outputs": [
    {
     "ename": "NameError",
     "evalue": "name 'base_amount' is not defined",
     "output_type": "error",
     "traceback": [
      "\u001b[1;31m---------------------------------------------------------------------------\u001b[0m",
      "\u001b[1;31mNameError\u001b[0m                                 Traceback (most recent call last)",
      "Cell \u001b[1;32mIn[16], line 1\u001b[0m\n\u001b[1;32m----> 1\u001b[0m \u001b[38;5;28mprint\u001b[39m(base_amount)\n",
      "\u001b[1;31mNameError\u001b[0m: name 'base_amount' is not defined"
     ]
    }
   ],
   "source": [
    "print(base_amount)"
   ]
  },
  {
   "cell_type": "markdown",
   "id": "dd322796-de7c-42a9-a8ca-4eea9064b0c1",
   "metadata": {},
   "source": [
    "****"
   ]
  },
  {
   "cell_type": "markdown",
   "id": "d0d731dd-d436-4d77-817f-1b766703e21c",
   "metadata": {},
   "source": [
    "#### Q19"
   ]
  },
  {
   "cell_type": "markdown",
   "id": "522e9307-68bd-41db-9dbb-b544fc9ba86d",
   "metadata": {},
   "source": [
    "Classes are a way of bundling data and functionality together and act as a blueprint for objects. "
   ]
  },
  {
   "cell_type": "markdown",
   "id": "0db38f92-4f34-496d-9c3d-d8a15d3b73c6",
   "metadata": {},
   "source": [
    "****"
   ]
  },
  {
   "cell_type": "markdown",
   "id": "7c782149-7090-49c6-9f0f-a382ed1de150",
   "metadata": {},
   "source": [
    "#### Q20"
   ]
  },
  {
   "cell_type": "code",
   "execution_count": 17,
   "id": "e317709a-a1ac-4f76-baec-3023b4077a5d",
   "metadata": {},
   "outputs": [],
   "source": [
    "# Create User class\n",
    "\n",
    "class User:\n",
    "    def __init__(self, id, lastname, balance):\n",
    "        self.id = id\n",
    "        self.lastname = lastname\n",
    "        self.balance = balance"
   ]
  },
  {
   "cell_type": "code",
   "execution_count": 18,
   "id": "7f34bbae-aab6-47b2-9a3b-f55016e64756",
   "metadata": {},
   "outputs": [],
   "source": [
    "# Create three instances of User class\n",
    "\n",
    "user1 = User(1, 'Mike', 100)\n",
    "user2 = User(2, 'Kenney', 500)\n",
    "user3 = User(3, 'Kiku', 900)"
   ]
  },
  {
   "cell_type": "code",
   "execution_count": 19,
   "id": "bc705226-03d1-4a6d-813a-af09a7aaf9ff",
   "metadata": {},
   "outputs": [
    {
     "name": "stdout",
     "output_type": "stream",
     "text": [
      "User1's last name: Mike\n",
      "User2's balance: 500\n"
     ]
    }
   ],
   "source": [
    "# Print the last name of user1 and the balance  of user2 using f-string\n",
    "\n",
    "print(f\"User1's last name: {user1.lastname}\")\n",
    "print(f\"User2's balance: {user2.balance}\")"
   ]
  },
  {
   "cell_type": "markdown",
   "id": "f92e8310-a5fe-4932-a901-5e07690a140c",
   "metadata": {},
   "source": [
    "****"
   ]
  },
  {
   "cell_type": "markdown",
   "id": "6156623c-a5b6-4c89-994d-186e2b589fd0",
   "metadata": {},
   "source": [
    "#### Q21"
   ]
  },
  {
   "cell_type": "markdown",
   "id": "39315734-e0ff-4710-8302-b9e016f655a2",
   "metadata": {},
   "source": [
    "The command line is used to interact with the operating system. Users can execute commands to perform various tasks such as navigating the file system, running programs, and managing files and directories.\n",
    "\n",
    "* `ls` - Lists the contents of a directory.\n",
    "* `pwd` - Prints the current directory.\n",
    "* `cd` - Changes the directory.\n",
    "* `mkdir` - Creates a new directory."
   ]
  },
  {
   "cell_type": "markdown",
   "id": "e92a3658-4f61-4afd-997a-6105824d2c14",
   "metadata": {},
   "source": [
    "****"
   ]
  },
  {
   "cell_type": "markdown",
   "id": "a7f52e4f-5471-4a94-ab1d-231e90ce572a",
   "metadata": {},
   "source": [
    "#### Q22"
   ]
  },
  {
   "cell_type": "markdown",
   "id": "b9cac7a9-947d-4a63-a361-7196288488ac",
   "metadata": {},
   "source": [
    "Git is a version control system that tracks changes to files and file history. This allows people to collaborate on projects without overwriting each other's work.\n",
    "\n",
    "* `git init` - Initializes a git repository.\n",
    "* `git status` - Shows the state of the working directory and staging area.\n",
    "* `git add` - Adds changes in the working directory to the staging area.\n",
    "* `git commit` - Records changes in the repository.\n",
    "* `git push` - Uploads local repository content to a remote repository."
   ]
  },
  {
   "cell_type": "markdown",
   "id": "9bc9c32f-2870-4e93-8425-cfd30292b931",
   "metadata": {},
   "source": [
    "****"
   ]
  },
  {
   "cell_type": "markdown",
   "id": "3dd74c02-fc6e-42cf-bdf9-17b346e80636",
   "metadata": {},
   "source": [
    "#### Q23"
   ]
  },
  {
   "cell_type": "markdown",
   "id": "54bd600e-2beb-4171-ac92-514c53bef82e",
   "metadata": {},
   "source": [
    "A virtual environment is a self-contained environment that allows you to install and manage dependencies of projects - separate from the system environment. This is useful because you can use a specific version of python and dependencies on project without affecting other projects or the system-wide versions of python and libraries installed."
   ]
  },
  {
   "cell_type": "markdown",
   "id": "c274b5f2-0511-4158-b040-80c274edc8ce",
   "metadata": {},
   "source": [
    "****"
   ]
  },
  {
   "cell_type": "markdown",
   "id": "224c117f-fdbd-4841-b44f-7dca7eae74ed",
   "metadata": {},
   "source": [
    "#### Q24"
   ]
  },
  {
   "cell_type": "markdown",
   "id": "6503a278-0436-48da-838d-c4e64f1cef23",
   "metadata": {},
   "source": [
    "Git is a version control system used on a local machine while GitHub is a web-based platform for hosting Git repositories for collaboration. It is possible to use Git without GitHub, and manage versions of code on a local machine."
   ]
  },
  {
   "cell_type": "markdown",
   "id": "7494abe6-4eb1-4d26-b2bb-0b66bd3080c3",
   "metadata": {},
   "source": [
    "****"
   ]
  },
  {
   "cell_type": "markdown",
   "id": "5b1498a8-bd25-481e-80f9-127b73956602",
   "metadata": {},
   "source": [
    "#### Q25"
   ]
  },
  {
   "cell_type": "markdown",
   "id": "46b90b54-8774-4543-ba68-2ecc9c2981a3",
   "metadata": {},
   "source": [
    "List comprehension is a way to create lists in Python by applying an expression to each item in an existing iterable."
   ]
  },
  {
   "cell_type": "code",
   "execution_count": 20,
   "id": "9da5a7ac-6829-4070-889d-40c2e7adb8d1",
   "metadata": {},
   "outputs": [
    {
     "data": {
      "text/plain": [
       "[8, 27, 64]"
      ]
     },
     "execution_count": 20,
     "metadata": {},
     "output_type": "execute_result"
    }
   ],
   "source": [
    "# Write a for loop that returns a new list with the cube of 2, 3 and 4.\n",
    "\n",
    "# Create List\n",
    "q_25 = [2, 3, 4]\n",
    "\n",
    "# List to store cube results\n",
    "cube_q_25 = []\n",
    "\n",
    "# For loop to to appy \n",
    "\n",
    "for i in q_25:\n",
    "    cube_q_25.append(i**3)\n",
    "\n",
    "cube_q_25"
   ]
  },
  {
   "cell_type": "code",
   "execution_count": 21,
   "id": "025bbe13-b4ce-4977-b03d-b7268631f0da",
   "metadata": {},
   "outputs": [
    {
     "data": {
      "text/plain": [
       "[8, 27, 64]"
      ]
     },
     "execution_count": 21,
     "metadata": {},
     "output_type": "execute_result"
    }
   ],
   "source": [
    "# Write a list comprehension that does the same thing.\n",
    "\n",
    "alt_q_25 = [i**3 for i in q_25]\n",
    "\n",
    "alt_q_25"
   ]
  },
  {
   "cell_type": "markdown",
   "id": "9b495a9f-ae85-4bec-b90e-0d443955c3cf",
   "metadata": {},
   "source": [
    "***"
   ]
  }
 ],
 "metadata": {
  "kernelspec": {
   "display_name": "Python 3",
   "language": "python",
   "name": "python3"
  },
  "language_info": {
   "codemirror_mode": {
    "name": "ipython",
    "version": 3
   },
   "file_extension": ".py",
   "mimetype": "text/x-python",
   "name": "python",
   "nbconvert_exporter": "python",
   "pygments_lexer": "ipython3",
   "version": "3.12.7"
  }
 },
 "nbformat": 4,
 "nbformat_minor": 5
}
